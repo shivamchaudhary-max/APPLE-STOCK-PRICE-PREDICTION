{
 "cells": [
  {
   "cell_type": "code",
   "execution_count": 1,
   "id": "89aa6074",
   "metadata": {
    "_cell_guid": "b1076dfc-b9ad-4769-8c92-a6c4dae69d19",
    "_uuid": "8f2839f25d086af736a60e9eeb907d3b93b6e0e5",
    "execution": {
     "iopub.execute_input": "2021-12-11T18:41:40.553591Z",
     "iopub.status.busy": "2021-12-11T18:41:40.552380Z",
     "iopub.status.idle": "2021-12-11T18:41:40.569996Z",
     "shell.execute_reply": "2021-12-11T18:41:40.570907Z",
     "shell.execute_reply.started": "2021-12-11T18:29:58.483920Z"
    },
    "papermill": {
     "duration": 0.050517,
     "end_time": "2021-12-11T18:41:40.571317",
     "exception": false,
     "start_time": "2021-12-11T18:41:40.520800",
     "status": "completed"
    },
    "tags": []
   },
   "outputs": [
    {
     "name": "stdout",
     "output_type": "stream",
     "text": [
      "/kaggle/input/stock-price-prediction-of-apple-inc/apple_share_price.csv\n"
     ]
    }
   ],
   "source": [
    "# This Python 3 environment comes with many helpful analytics libraries installed\n",
    "# It is defined by the kaggle/python Docker image: https://github.com/kaggle/docker-python\n",
    "# For example, here's several helpful packages to load\n",
    "\n",
    "import numpy as np # linear algebra\n",
    "import pandas as pd # data processing, CSV file I/O (e.g. pd.read_csv)\n",
    "\n",
    "# Input data files are available in the read-only \"../input/\" directory\n",
    "# For example, running this (by clicking run or pressing Shift+Enter) will list all files under the input directory\n",
    "\n",
    "import os\n",
    "for dirname, _, filenames in os.walk('/kaggle/input'):\n",
    "    for filename in filenames:\n",
    "        print(os.path.join(dirname, filename))\n",
    "\n",
    "# You can write up to 20GB to the current directory (/kaggle/working/) that gets preserved as output when you create a version using \"Save & Run All\" \n",
    "# You can also write temporary files to /kaggle/temp/, but they won't be saved outside of the current session"
   ]
  },
  {
   "cell_type": "code",
   "execution_count": 2,
   "id": "d79ad470",
   "metadata": {
    "execution": {
     "iopub.execute_input": "2021-12-11T18:41:40.628891Z",
     "iopub.status.busy": "2021-12-11T18:41:40.623529Z",
     "iopub.status.idle": "2021-12-11T18:41:47.432843Z",
     "shell.execute_reply": "2021-12-11T18:41:47.432317Z",
     "shell.execute_reply.started": "2021-12-11T18:30:17.335293Z"
    },
    "papermill": {
     "duration": 6.838157,
     "end_time": "2021-12-11T18:41:47.433007",
     "exception": false,
     "start_time": "2021-12-11T18:41:40.594850",
     "status": "completed"
    },
    "tags": []
   },
   "outputs": [],
   "source": [
    "import pandas as pd\n",
    "import numpy as np\n",
    "from numpy import array\n",
    "import math\n",
    "import matplotlib.pyplot as plt\n",
    "from sklearn.preprocessing import MinMaxScaler\n",
    "import tensorflow as tf\n",
    "from tensorflow.keras.models import Sequential\n",
    "from tensorflow.keras.layers import Dense\n",
    "from tensorflow.keras.layers import LSTM\n",
    "%matplotlib inline"
   ]
  },
  {
   "cell_type": "code",
   "execution_count": 3,
   "id": "e143ae5a",
   "metadata": {
    "execution": {
     "iopub.execute_input": "2021-12-11T18:41:47.469600Z",
     "iopub.status.busy": "2021-12-11T18:41:47.468910Z",
     "iopub.status.idle": "2021-12-11T18:41:47.507374Z",
     "shell.execute_reply": "2021-12-11T18:41:47.507805Z",
     "shell.execute_reply.started": "2021-12-11T18:30:36.470519Z"
    },
    "papermill": {
     "duration": 0.058879,
     "end_time": "2021-12-11T18:41:47.507983",
     "exception": false,
     "start_time": "2021-12-11T18:41:47.449104",
     "status": "completed"
    },
    "tags": []
   },
   "outputs": [
    {
     "data": {
      "text/html": [
       "<div>\n",
       "<style scoped>\n",
       "    .dataframe tbody tr th:only-of-type {\n",
       "        vertical-align: middle;\n",
       "    }\n",
       "\n",
       "    .dataframe tbody tr th {\n",
       "        vertical-align: top;\n",
       "    }\n",
       "\n",
       "    .dataframe thead th {\n",
       "        text-align: right;\n",
       "    }\n",
       "</style>\n",
       "<table border=\"1\" class=\"dataframe\">\n",
       "  <thead>\n",
       "    <tr style=\"text-align: right;\">\n",
       "      <th></th>\n",
       "      <th>Date</th>\n",
       "      <th>Open</th>\n",
       "      <th>High</th>\n",
       "      <th>Low</th>\n",
       "      <th>Close</th>\n",
       "      <th>Volume</th>\n",
       "    </tr>\n",
       "  </thead>\n",
       "  <tbody>\n",
       "    <tr>\n",
       "      <th>0</th>\n",
       "      <td>11-Aug-17</td>\n",
       "      <td>156.60</td>\n",
       "      <td>158.57</td>\n",
       "      <td>156.07</td>\n",
       "      <td>157.48</td>\n",
       "      <td>26257096</td>\n",
       "    </tr>\n",
       "    <tr>\n",
       "      <th>1</th>\n",
       "      <td>10-Aug-17</td>\n",
       "      <td>159.90</td>\n",
       "      <td>160.00</td>\n",
       "      <td>154.63</td>\n",
       "      <td>155.32</td>\n",
       "      <td>40804273</td>\n",
       "    </tr>\n",
       "    <tr>\n",
       "      <th>2</th>\n",
       "      <td>9-Aug-17</td>\n",
       "      <td>159.26</td>\n",
       "      <td>161.27</td>\n",
       "      <td>159.11</td>\n",
       "      <td>161.06</td>\n",
       "      <td>26131530</td>\n",
       "    </tr>\n",
       "    <tr>\n",
       "      <th>3</th>\n",
       "      <td>8-Aug-17</td>\n",
       "      <td>158.60</td>\n",
       "      <td>161.83</td>\n",
       "      <td>158.27</td>\n",
       "      <td>160.08</td>\n",
       "      <td>36205896</td>\n",
       "    </tr>\n",
       "    <tr>\n",
       "      <th>4</th>\n",
       "      <td>7-Aug-17</td>\n",
       "      <td>157.06</td>\n",
       "      <td>158.92</td>\n",
       "      <td>156.67</td>\n",
       "      <td>158.81</td>\n",
       "      <td>21870321</td>\n",
       "    </tr>\n",
       "  </tbody>\n",
       "</table>\n",
       "</div>"
      ],
      "text/plain": [
       "        Date    Open    High     Low   Close    Volume\n",
       "0  11-Aug-17  156.60  158.57  156.07  157.48  26257096\n",
       "1  10-Aug-17  159.90  160.00  154.63  155.32  40804273\n",
       "2   9-Aug-17  159.26  161.27  159.11  161.06  26131530\n",
       "3   8-Aug-17  158.60  161.83  158.27  160.08  36205896\n",
       "4   7-Aug-17  157.06  158.92  156.67  158.81  21870321"
      ]
     },
     "execution_count": 3,
     "metadata": {},
     "output_type": "execute_result"
    }
   ],
   "source": [
    "df=pd.read_csv('../input/stock-price-prediction-of-apple-inc/apple_share_price.csv')\n",
    "df.head(5)"
   ]
  },
  {
   "cell_type": "code",
   "execution_count": 4,
   "id": "1c179da3",
   "metadata": {
    "execution": {
     "iopub.execute_input": "2021-12-11T18:41:47.548683Z",
     "iopub.status.busy": "2021-12-11T18:41:47.547819Z",
     "iopub.status.idle": "2021-12-11T18:41:47.551032Z",
     "shell.execute_reply": "2021-12-11T18:41:47.551491Z",
     "shell.execute_reply.started": "2021-12-11T18:30:44.111676Z"
    },
    "papermill": {
     "duration": 0.026385,
     "end_time": "2021-12-11T18:41:47.551660",
     "exception": false,
     "start_time": "2021-12-11T18:41:47.525275",
     "status": "completed"
    },
    "tags": []
   },
   "outputs": [
    {
     "data": {
      "text/plain": [
       "(1664, 6)"
      ]
     },
     "execution_count": 4,
     "metadata": {},
     "output_type": "execute_result"
    }
   ],
   "source": [
    "df.shape"
   ]
  },
  {
   "cell_type": "code",
   "execution_count": 5,
   "id": "bb526c4a",
   "metadata": {
    "execution": {
     "iopub.execute_input": "2021-12-11T18:41:47.595920Z",
     "iopub.status.busy": "2021-12-11T18:41:47.587873Z",
     "iopub.status.idle": "2021-12-11T18:41:47.601591Z",
     "shell.execute_reply": "2021-12-11T18:41:47.602046Z",
     "shell.execute_reply.started": "2021-12-11T18:30:51.484506Z"
    },
    "papermill": {
     "duration": 0.034251,
     "end_time": "2021-12-11T18:41:47.602239",
     "exception": false,
     "start_time": "2021-12-11T18:41:47.567988",
     "status": "completed"
    },
    "tags": []
   },
   "outputs": [
    {
     "data": {
      "text/plain": [
       "0       157.48\n",
       "1       155.32\n",
       "2       161.06\n",
       "3       160.08\n",
       "4       158.81\n",
       "         ...  \n",
       "1659     48.02\n",
       "1660     47.68\n",
       "1661     47.71\n",
       "1662     47.33\n",
       "1663     47.08\n",
       "Name: Close, Length: 1664, dtype: float64"
      ]
     },
     "execution_count": 5,
     "metadata": {},
     "output_type": "execute_result"
    }
   ],
   "source": [
    "df1=df.reset_index()['Close'];df1"
   ]
  },
  {
   "cell_type": "code",
   "execution_count": 6,
   "id": "8bb670be",
   "metadata": {
    "execution": {
     "iopub.execute_input": "2021-12-11T18:41:47.640455Z",
     "iopub.status.busy": "2021-12-11T18:41:47.639386Z",
     "iopub.status.idle": "2021-12-11T18:41:47.848080Z",
     "shell.execute_reply": "2021-12-11T18:41:47.847460Z",
     "shell.execute_reply.started": "2021-12-11T18:31:00.681039Z"
    },
    "papermill": {
     "duration": 0.22929,
     "end_time": "2021-12-11T18:41:47.848237",
     "exception": false,
     "start_time": "2021-12-11T18:41:47.618947",
     "status": "completed"
    },
    "tags": []
   },
   "outputs": [
    {
     "data": {
      "image/png": "[encoded data removed]",
      "text/plain": [
       "<Figure size 432x288 with 1 Axes>"
      ]
     },
     "metadata": {
      "needs_background": "light"
     },
     "output_type": "display_data"
    }
   ],
   "source": [
    "plt.plot(df1);plt.show()"
   ]
  },
  {
   "cell_type": "code",
   "execution_count": 7,
   "id": "14237c3b",
   "metadata": {
    "execution": {
     "iopub.execute_input": "2021-12-11T18:41:47.891486Z",
     "iopub.status.busy": "2021-12-11T18:41:47.890843Z",
     "iopub.status.idle": "2021-12-11T18:41:47.893255Z",
     "shell.execute_reply": "2021-12-11T18:41:47.893735Z",
     "shell.execute_reply.started": "2021-12-11T18:31:09.038476Z"
    },
    "papermill": {
     "duration": 0.027695,
     "end_time": "2021-12-11T18:41:47.893903",
     "exception": false,
     "start_time": "2021-12-11T18:41:47.866208",
     "status": "completed"
    },
    "tags": []
   },
   "outputs": [
    {
     "data": {
      "text/plain": [
       "array([[0.96914059],\n",
       "       [0.95052151],\n",
       "       [1.        ],\n",
       "       ...,\n",
       "       [0.02292906],\n",
       "       [0.01965348],\n",
       "       [0.01749849]])"
      ]
     },
     "execution_count": 7,
     "metadata": {},
     "output_type": "execute_result"
    }
   ],
   "source": [
    "scaler=MinMaxScaler(feature_range=(0,1))\n",
    "df1=scaler.fit_transform(np.array(df1).reshape(-1,1));df1"
   ]
  },
  {
   "cell_type": "code",
   "execution_count": 8,
   "id": "1c0a8df2",
   "metadata": {
    "execution": {
     "iopub.execute_input": "2021-12-11T18:41:47.933156Z",
     "iopub.status.busy": "2021-12-11T18:41:47.932496Z",
     "iopub.status.idle": "2021-12-11T18:41:47.938036Z",
     "shell.execute_reply": "2021-12-11T18:41:47.938954Z",
     "shell.execute_reply.started": "2021-12-11T18:31:17.882795Z"
    },
    "papermill": {
     "duration": 0.027312,
     "end_time": "2021-12-11T18:41:47.939205",
     "exception": false,
     "start_time": "2021-12-11T18:41:47.911893",
     "status": "completed"
    },
    "tags": []
   },
   "outputs": [
    {
     "name": "stdout",
     "output_type": "stream",
     "text": [
      "1081 583\n"
     ]
    }
   ],
   "source": [
    "##splitting dataset into train and test split\n",
    "training_size=int(len(df1)*0.65)\n",
    "test_size=len(df1)-training_size\n",
    "train_data,test_data=df1[0:training_size,:],df1[training_size:len(df1),:1]\n",
    "print(training_size,test_size)"
   ]
  },
  {
   "cell_type": "code",
   "execution_count": 9,
   "id": "a7d68e41",
   "metadata": {
    "execution": {
     "iopub.execute_input": "2021-12-11T18:41:47.982238Z",
     "iopub.status.busy": "2021-12-11T18:41:47.981590Z",
     "iopub.status.idle": "2021-12-11T18:41:47.986152Z",
     "shell.execute_reply": "2021-12-11T18:41:47.986700Z",
     "shell.execute_reply.started": "2021-12-11T18:31:25.886089Z"
    },
    "papermill": {
     "duration": 0.028502,
     "end_time": "2021-12-11T18:41:47.986876",
     "exception": false,
     "start_time": "2021-12-11T18:41:47.958374",
     "status": "completed"
    },
    "tags": []
   },
   "outputs": [],
   "source": [
    "#convert an array of values into a dataset matrix\n",
    "def create_dataset(dataset, time_step=1):\n",
    "    dataX, dataY = [], []\n",
    "    for i in range(len(dataset)-time_step-1):\n",
    "        a = dataset[i:(i+time_step), 0]   ###i=0, 0,1,2,3-----99   100 \n",
    "        dataX.append(a)\n",
    "        dataY.append(dataset[i + time_step, 0])\n",
    "    return np.array(dataX), np.array(dataY)"
   ]
  },
  {
   "cell_type": "code",
   "execution_count": 10,
   "id": "43394fd9",
   "metadata": {
    "execution": {
     "iopub.execute_input": "2021-12-11T18:41:48.028400Z",
     "iopub.status.busy": "2021-12-11T18:41:48.027425Z",
     "iopub.status.idle": "2021-12-11T18:41:48.034393Z",
     "shell.execute_reply": "2021-12-11T18:41:48.034841Z",
     "shell.execute_reply.started": "2021-12-11T18:31:32.586873Z"
    },
    "papermill": {
     "duration": 0.029511,
     "end_time": "2021-12-11T18:41:48.035019",
     "exception": false,
     "start_time": "2021-12-11T18:41:48.005508",
     "status": "completed"
    },
    "tags": []
   },
   "outputs": [],
   "source": [
    "# reshape into X=t,t+1,t+2,t+3 and Y=t+4\n",
    "time_step = 100\n",
    "X_train, y_train = create_dataset(train_data, time_step)\n",
    "X_test, ytest = create_dataset(test_data, time_step)"
   ]
  },
  {
   "cell_type": "code",
   "execution_count": 11,
   "id": "7912bff3",
   "metadata": {
    "execution": {
     "iopub.execute_input": "2021-12-11T18:41:48.078073Z",
     "iopub.status.busy": "2021-12-11T18:41:48.077456Z",
     "iopub.status.idle": "2021-12-11T18:41:48.085768Z",
     "shell.execute_reply": "2021-12-11T18:41:48.085032Z",
     "shell.execute_reply.started": "2021-12-11T18:31:40.828737Z"
    },
    "papermill": {
     "duration": 0.031092,
     "end_time": "2021-12-11T18:41:48.085968",
     "exception": false,
     "start_time": "2021-12-11T18:41:48.054876",
     "status": "completed"
    },
    "tags": []
   },
   "outputs": [
    {
     "name": "stdout",
     "output_type": "stream",
     "text": [
      "(980, 100)\n",
      "(980,)\n",
      "(482, 100)\n",
      "(482,)\n"
     ]
    },
    {
     "data": {
      "text/plain": [
       "(None, None, None, None)"
      ]
     },
     "execution_count": 11,
     "metadata": {},
     "output_type": "execute_result"
    }
   ],
   "source": [
    "print(X_train.shape), print(y_train.shape),print(X_test.shape), print(ytest.shape)"
   ]
  },
  {
   "cell_type": "code",
   "execution_count": 12,
   "id": "9fc0ce12",
   "metadata": {
    "execution": {
     "iopub.execute_input": "2021-12-11T18:41:48.131331Z",
     "iopub.status.busy": "2021-12-11T18:41:48.130191Z",
     "iopub.status.idle": "2021-12-11T18:41:48.132206Z",
     "shell.execute_reply": "2021-12-11T18:41:48.132695Z",
     "shell.execute_reply.started": "2021-12-11T18:31:50.688725Z"
    },
    "papermill": {
     "duration": 0.026692,
     "end_time": "2021-12-11T18:41:48.132871",
     "exception": false,
     "start_time": "2021-12-11T18:41:48.106179",
     "status": "completed"
    },
    "tags": []
   },
   "outputs": [],
   "source": [
    "X_train =X_train.reshape(X_train.shape[0],X_train.shape[1] , 1)\n",
    "X_test = X_test.reshape(X_test.shape[0],X_test.shape[1] , 1)"
   ]
  },
  {
   "cell_type": "code",
   "execution_count": 13,
   "id": "378a9fc0",
   "metadata": {
    "execution": {
     "iopub.execute_input": "2021-12-11T18:41:48.174518Z",
     "iopub.status.busy": "2021-12-11T18:41:48.173788Z",
     "iopub.status.idle": "2021-12-11T18:41:49.010169Z",
     "shell.execute_reply": "2021-12-11T18:41:49.009699Z",
     "shell.execute_reply.started": "2021-12-11T18:31:58.513804Z"
    },
    "papermill": {
     "duration": 0.858538,
     "end_time": "2021-12-11T18:41:49.010361",
     "exception": false,
     "start_time": "2021-12-11T18:41:48.151823",
     "status": "completed"
    },
    "tags": []
   },
   "outputs": [
    {
     "name": "stderr",
     "output_type": "stream",
     "text": [
      "\n",
      "User settings:\n",
      "\n",
      "   KMP_AFFINITY=granularity=fine,verbose,compact,1,0\n",
      "   KMP_BLOCKTIME=0\n",
      "   KMP_DUPLICATE_LIB_OK=True\n",
      "   KMP_INIT_AT_FORK=FALSE\n",
      "   KMP_SETTINGS=1\n",
      "   KMP_WARNINGS=0\n",
      "\n",
      "Effective settings:\n",
      "\n",
      "   KMP_ABORT_DELAY=0\n",
      "   KMP_ADAPTIVE_LOCK_PROPS='1,1024'\n",
      "   KMP_ALIGN_ALLOC=64\n",
      "   KMP_ALL_THREADPRIVATE=128\n",
      "   KMP_ATOMIC_MODE=2\n",
      "   KMP_BLOCKTIME=0\n",
      "   KMP_CPUINFO_FILE: value is not defined\n",
      "   KMP_DETERMINISTIC_REDUCTION=false\n",
      "   KMP_DEVICE_THREAD_LIMIT=2147483647\n",
      "   KMP_DISP_NUM_BUFFERS=7\n",
      "   KMP_DUPLICATE_LIB_OK=true\n",
      "   KMP_ENABLE_TASK_THROTTLING=true\n",
      "   KMP_FORCE_REDUCTION: value is not defined\n",
      "   KMP_FOREIGN_THREADS_THREADPRIVATE=true\n",
      "   KMP_FORKJOIN_BARRIER='2,2'\n",
      "   KMP_FORKJOIN_BARRIER_PATTERN='hyper,hyper'\n",
      "   KMP_GTID_MODE=3\n",
      "   KMP_HANDLE_SIGNALS=false\n",
      "   KMP_HOT_TEAMS_MAX_LEVEL=1\n",
      "   KMP_HOT_TEAMS_MODE=0\n",
      "   KMP_INIT_AT_FORK=true\n",
      "   KMP_LIBRARY=throughput\n",
      "   KMP_LOCK_KIND=queuing\n",
      "   KMP_MALLOC_POOL_INCR=1M\n",
      "   KMP_NUM_LOCKS_IN_BLOCK=1\n",
      "   KMP_PLAIN_BARRIER='2,2'\n",
      "   KMP_PLAIN_BARRIER_PATTERN='hyper,hyper'\n",
      "   KMP_REDUCTION_BARRIER='1,1'\n",
      "   KMP_REDUCTION_BARRIER_PATTERN='hyper,hyper'\n",
      "   KMP_SCHEDULE='static,balanced;guided,iterative'\n",
      "   KMP_SETTINGS=true\n",
      "   KMP_SPIN_BACKOFF_PARAMS='4096,100'\n",
      "   KMP_STACKOFFSET=64\n",
      "   KMP_STACKPAD=0\n",
      "   KMP_STACKSIZE=8M\n",
      "   KMP_STORAGE_MAP=false\n",
      "   KMP_TASKING=2\n",
      "   KMP_TASKLOOP_MIN_TASKS=0\n",
      "   KMP_TASK_STEALING_CONSTRAINT=1\n",
      "   KMP_TEAMS_THREAD_LIMIT=4\n",
      "   KMP_TOPOLOGY_METHOD=all\n",
      "   KMP_USE_YIELD=1\n",
      "   KMP_VERSION=false\n",
      "   KMP_WARNINGS=false\n",
      "   OMP_AFFINITY_FORMAT='OMP: pid %P tid %i thread %n bound to OS proc set {%A}'\n",
      "   OMP_ALLOCATOR=omp_default_mem_alloc\n",
      "   OMP_CANCELLATION=false\n",
      "   OMP_DEFAULT_DEVICE=0\n",
      "   OMP_DISPLAY_AFFINITY=false\n",
      "   OMP_DISPLAY_ENV=false\n",
      "   OMP_DYNAMIC=false\n",
      "   OMP_MAX_ACTIVE_LEVELS=1\n",
      "   OMP_MAX_TASK_PRIORITY=0\n",
      "   OMP_NESTED: deprecated; max-active-levels-var=1\n",
      "   OMP_NUM_THREADS: value is not defined\n",
      "   OMP_PLACES: value is not defined\n",
      "   OMP_PROC_BIND='intel'\n",
      "   OMP_SCHEDULE='static'\n",
      "   OMP_STACKSIZE=8M\n",
      "   OMP_TARGET_OFFLOAD=DEFAULT\n",
      "   OMP_THREAD_LIMIT=2147483647\n",
      "   OMP_WAIT_POLICY=PASSIVE\n",
      "   KMP_AFFINITY='verbose,warnings,respect,granularity=fine,compact,1,0'\n",
      "\n",
      "2021-12-11 18:41:48.213946: I tensorflow/core/common_runtime/process_util.cc:146] Creating new thread pool with default inter op setting: 2. Tune using inter_op_parallelism_threads for best performance.\n"
     ]
    },
    {
     "name": "stdout",
     "output_type": "stream",
     "text": [
      "Model: \"sequential\"\n",
      "_________________________________________________________________\n",
      "Layer (type)                 Output Shape              Param #   \n",
      "=================================================================\n",
      "lstm (LSTM)                  (None, 100, 50)           10400     \n",
      "_________________________________________________________________\n",
      "lstm_1 (LSTM)                (None, 100, 50)           20200     \n",
      "_________________________________________________________________\n",
      "lstm_2 (LSTM)                (None, 50)                20200     \n",
      "_________________________________________________________________\n",
      "dense (Dense)                (None, 1)                 51        \n",
      "=================================================================\n",
      "Total params: 50,851\n",
      "Trainable params: 50,851\n",
      "Non-trainable params: 0\n",
      "_________________________________________________________________\n"
     ]
    }
   ],
   "source": [
    "model=Sequential()\n",
    "model.add(LSTM(50,return_sequences=True,input_shape=(100,1)))\n",
    "model.add(LSTM(50,return_sequences=True))\n",
    "model.add(LSTM(50))\n",
    "model.add(Dense(1))\n",
    "model.compile(loss='mse',optimizer='adam')\n",
    "model.summary()"
   ]
  },
  {
   "cell_type": "code",
   "execution_count": 14,
   "id": "41643420",
   "metadata": {
    "execution": {
     "iopub.execute_input": "2021-12-11T18:41:49.054684Z",
     "iopub.status.busy": "2021-12-11T18:41:49.054002Z",
     "iopub.status.idle": "2021-12-11T18:49:06.318600Z",
     "shell.execute_reply": "2021-12-11T18:49:06.319259Z",
     "shell.execute_reply.started": "2021-12-11T18:32:20.046370Z"
    },
    "papermill": {
     "duration": 437.289822,
     "end_time": "2021-12-11T18:49:06.319470",
     "exception": false,
     "start_time": "2021-12-11T18:41:49.029648",
     "status": "completed"
    },
    "tags": []
   },
   "outputs": [
    {
     "name": "stderr",
     "output_type": "stream",
     "text": [
      "2021-12-11 18:41:49.108193: I tensorflow/compiler/mlir/mlir_graph_optimization_pass.cc:185] None of the MLIR Optimization Passes are enabled (registered 2)\n"
     ]
    }
   ],
   "source": [
    "history=model.fit(X_train,y_train,validation_data=(X_test,ytest),epochs=100,batch_size=64,verbose=0)"
   ]
  },
  {
   "cell_type": "code",
   "execution_count": 15,
   "id": "7c11018b",
   "metadata": {
    "execution": {
     "iopub.execute_input": "2021-12-11T18:49:06.362526Z",
     "iopub.status.busy": "2021-12-11T18:49:06.361919Z",
     "iopub.status.idle": "2021-12-11T18:49:06.604072Z",
     "shell.execute_reply": "2021-12-11T18:49:06.603463Z",
     "shell.execute_reply.started": "2021-12-11T18:39:53.238727Z"
    },
    "papermill": {
     "duration": 0.264756,
     "end_time": "2021-12-11T18:49:06.604246",
     "exception": false,
     "start_time": "2021-12-11T18:49:06.339490",
     "status": "completed"
    },
    "tags": []
   },
   "outputs": [
    {
     "data": {
      "image/png": "[encoded data removed]",
      "text/plain": [
       "<Figure size 432x288 with 1 Axes>"
      ]
     },
     "metadata": {
      "needs_background": "light"
     },
     "output_type": "display_data"
    }
   ],
   "source": [
    "# Show the learning curves\n",
    "history_df = pd.DataFrame(history.history)\n",
    "history_df.loc[:, ['loss', 'val_loss']].plot();"
   ]
  },
  {
   "cell_type": "code",
   "execution_count": 16,
   "id": "1c41dba6",
   "metadata": {
    "execution": {
     "iopub.execute_input": "2021-12-11T18:49:06.650757Z",
     "iopub.status.busy": "2021-12-11T18:49:06.649320Z",
     "iopub.status.idle": "2021-12-11T18:49:10.780133Z",
     "shell.execute_reply": "2021-12-11T18:49:10.779185Z",
     "shell.execute_reply.started": "2021-12-11T18:39:56.352779Z"
    },
    "papermill": {
     "duration": 4.155571,
     "end_time": "2021-12-11T18:49:10.780323",
     "exception": false,
     "start_time": "2021-12-11T18:49:06.624752",
     "status": "completed"
    },
    "tags": []
   },
   "outputs": [],
   "source": [
    "train_predict=model.predict(X_train) #prediction\n",
    "test_predict=model.predict(X_test)"
   ]
  },
  {
   "cell_type": "code",
   "execution_count": 17,
   "id": "a66c5588",
   "metadata": {
    "execution": {
     "iopub.execute_input": "2021-12-11T18:49:10.829042Z",
     "iopub.status.busy": "2021-12-11T18:49:10.828456Z",
     "iopub.status.idle": "2021-12-11T18:49:10.831192Z",
     "shell.execute_reply": "2021-12-11T18:49:10.831708Z",
     "shell.execute_reply.started": "2021-12-11T18:40:07.594134Z"
    },
    "papermill": {
     "duration": 0.028586,
     "end_time": "2021-12-11T18:49:10.831870",
     "exception": false,
     "start_time": "2021-12-11T18:49:10.803284",
     "status": "completed"
    },
    "tags": []
   },
   "outputs": [],
   "source": [
    "##Transformback to original form\n",
    "train_predict=scaler.inverse_transform(train_predict)\n",
    "test_predict=scaler.inverse_transform(test_predict)"
   ]
  },
  {
   "cell_type": "code",
   "execution_count": 18,
   "id": "85c60ce8",
   "metadata": {
    "execution": {
     "iopub.execute_input": "2021-12-11T18:49:10.878578Z",
     "iopub.status.busy": "2021-12-11T18:49:10.877856Z",
     "iopub.status.idle": "2021-12-11T18:49:10.918680Z",
     "shell.execute_reply": "2021-12-11T18:49:10.919195Z",
     "shell.execute_reply.started": "2021-12-11T18:40:11.587699Z"
    },
    "papermill": {
     "duration": 0.066563,
     "end_time": "2021-12-11T18:49:10.919415",
     "exception": false,
     "start_time": "2021-12-11T18:49:10.852852",
     "status": "completed"
    },
    "tags": []
   },
   "outputs": [
    {
     "name": "stdout",
     "output_type": "stream",
     "text": [
      "100.85118800485283\n",
      "68.336189606359\n"
     ]
    }
   ],
   "source": [
    "#Calculate RMSE performance metrics\n",
    "from sklearn.metrics import mean_squared_error\n",
    "print(math.sqrt(mean_squared_error(y_train,train_predict)))\n",
    "print(math.sqrt(mean_squared_error(ytest,test_predict)))"
   ]
  },
  {
   "cell_type": "code",
   "execution_count": 19,
   "id": "c1543c39",
   "metadata": {
    "execution": {
     "iopub.execute_input": "2021-12-11T18:49:10.986712Z",
     "iopub.status.busy": "2021-12-11T18:49:10.965012Z",
     "iopub.status.idle": "2021-12-11T18:49:11.177763Z",
     "shell.execute_reply": "2021-12-11T18:49:11.177271Z",
     "shell.execute_reply.started": "2021-12-11T18:40:13.556530Z"
    },
    "papermill": {
     "duration": 0.237144,
     "end_time": "2021-12-11T18:49:11.177907",
     "exception": false,
     "start_time": "2021-12-11T18:49:10.940763",
     "status": "completed"
    },
    "tags": []
   },
   "outputs": [
    {
     "data": {
      "image/png": "[encoded data removed]",
      "text/plain": [
       "<Figure size 432x288 with 1 Axes>"
      ]
     },
     "metadata": {
      "needs_background": "light"
     },
     "output_type": "display_data"
    }
   ],
   "source": [
    "# shift train predictions for plotting\n",
    "look_back=100\n",
    "trainPredictPlot = np.empty_like(df1)\n",
    "trainPredictPlot[:, :] = np.nan\n",
    "trainPredictPlot[look_back:len(train_predict)+look_back, :] = train_predict\n",
    "# shift test predictions for plotting\n",
    "testPredictPlot = np.empty_like(df1)\n",
    "testPredictPlot[:, :] = np.nan\n",
    "testPredictPlot[len(train_predict)+(look_back*2)+1:len(df1)-1, :] = test_predict\n",
    "# plot baseline and predictions\n",
    "plt.plot(scaler.inverse_transform(df1))\n",
    "plt.plot(trainPredictPlot)\n",
    "plt.plot(testPredictPlot)\n",
    "plt.legend()\n",
    "plt.show()"
   ]
  },
  {
   "cell_type": "code",
   "execution_count": 20,
   "id": "124c9285",
   "metadata": {
    "execution": {
     "iopub.execute_input": "2021-12-11T18:49:11.228528Z",
     "iopub.status.busy": "2021-12-11T18:49:11.227866Z",
     "iopub.status.idle": "2021-12-11T18:49:11.230774Z",
     "shell.execute_reply": "2021-12-11T18:49:11.230146Z",
     "shell.execute_reply.started": "2021-12-11T18:40:17.588395Z"
    },
    "papermill": {
     "duration": 0.030884,
     "end_time": "2021-12-11T18:49:11.230927",
     "exception": false,
     "start_time": "2021-12-11T18:49:11.200043",
     "status": "completed"
    },
    "tags": []
   },
   "outputs": [],
   "source": [
    "x_input=test_data[483:].reshape(1,-1) #len(test_data)\n",
    "temp_input=list(x_input)\n",
    "temp_input=temp_input[0].tolist()"
   ]
  },
  {
   "cell_type": "code",
   "execution_count": 21,
   "id": "741c1ad1",
   "metadata": {
    "execution": {
     "iopub.execute_input": "2021-12-11T18:49:11.280049Z",
     "iopub.status.busy": "2021-12-11T18:49:11.279424Z",
     "iopub.status.idle": "2021-12-11T18:49:13.272826Z",
     "shell.execute_reply": "2021-12-11T18:49:13.273301Z",
     "shell.execute_reply.started": "2021-12-11T18:40:47.723911Z"
    },
    "papermill": {
     "duration": 2.018508,
     "end_time": "2021-12-11T18:49:13.273566",
     "exception": false,
     "start_time": "2021-12-11T18:49:11.255058",
     "status": "completed"
    },
    "tags": []
   },
   "outputs": [
    {
     "name": "stdout",
     "output_type": "stream",
     "text": [
      "[0.02782646]\n",
      "101\n",
      "1 day input [0.02077407 0.02344625 0.02448065 0.03103181 0.03016981 0.02560124\n",
      " 0.02206706 0.03094561 0.03844496 0.03922076 0.04197914 0.03973795\n",
      " 0.03853116 0.03870356 0.04215154 0.04042755 0.03810016 0.04284113\n",
      " 0.03870356 0.04284113 0.04318593 0.04637531 0.04353073 0.03335919\n",
      " 0.02775623 0.02034307 0.01491251 0.02103267 0.02560124 0.02103267\n",
      " 0.01905008 0.02430825 0.02801483 0.02792863 0.02896302 0.0318076\n",
      " 0.03594518 0.04085855 0.04094475 0.04387553 0.04318593 0.04456512\n",
      " 0.03646237 0.02939402 0.0318076  0.02948022 0.01887768 0.02379105\n",
      " 0.01801569 0.03706577 0.04706491 0.04508232 0.03853116 0.04568572\n",
      " 0.04973709 0.04930609 0.05499526 0.05447806 0.04525472 0.04180674\n",
      " 0.04663391 0.04042755 0.03387639 0.03361779 0.02861822 0.04335833\n",
      " 0.05292647 0.05887423 0.05482286 0.05396087 0.05111628 0.0482717\n",
      " 0.05275407 0.0490475  0.04499612 0.03835876 0.03456599 0.03568658\n",
      " 0.03654857 0.02948022 0.02551504 0.03430739 0.03508318 0.0320662\n",
      " 0.02723903 0.01396431 0.02137747 0.02896302 0.03111801 0.04077235\n",
      " 0.03732437 0.03577278 0.032411   0.03335919 0.02560124 0.02267046\n",
      " 0.02292906 0.01965348 0.01749849 0.02782646]\n",
      "1 day output [[0.02641208]]\n",
      "2 day input [0.02344625 0.02448065 0.03103181 0.03016981 0.02560124 0.02206706\n",
      " 0.03094561 0.03844496 0.03922076 0.04197914 0.03973795 0.03853116\n",
      " 0.03870356 0.04215154 0.04042755 0.03810016 0.04284113 0.03870356\n",
      " 0.04284113 0.04318593 0.04637531 0.04353073 0.03335919 0.02775623\n",
      " 0.02034307 0.01491251 0.02103267 0.02560124 0.02103267 0.01905008\n",
      " 0.02430825 0.02801483 0.02792863 0.02896302 0.0318076  0.03594518\n",
      " 0.04085855 0.04094475 0.04387553 0.04318593 0.04456512 0.03646237\n",
      " 0.02939402 0.0318076  0.02948022 0.01887768 0.02379105 0.01801569\n",
      " 0.03706577 0.04706491 0.04508232 0.03853116 0.04568572 0.04973709\n",
      " 0.04930609 0.05499526 0.05447806 0.04525472 0.04180674 0.04663391\n",
      " 0.04042755 0.03387639 0.03361779 0.02861822 0.04335833 0.05292647\n",
      " 0.05887423 0.05482286 0.05396087 0.05111628 0.0482717  0.05275407\n",
      " 0.0490475  0.04499612 0.03835876 0.03456599 0.03568658 0.03654857\n",
      " 0.02948022 0.02551504 0.03430739 0.03508318 0.0320662  0.02723903\n",
      " 0.01396431 0.02137747 0.02896302 0.03111801 0.04077235 0.03732437\n",
      " 0.03577278 0.032411   0.03335919 0.02560124 0.02267046 0.02292906\n",
      " 0.01965348 0.01749849 0.02782646 0.02641208]\n",
      "2 day output [[0.02602977]]\n",
      "3 day input [0.02448065 0.03103181 0.03016981 0.02560124 0.02206706 0.03094561\n",
      " 0.03844496 0.03922076 0.04197914 0.03973795 0.03853116 0.03870356\n",
      " 0.04215154 0.04042755 0.03810016 0.04284113 0.03870356 0.04284113\n",
      " 0.04318593 0.04637531 0.04353073 0.03335919 0.02775623 0.02034307\n",
      " 0.01491251 0.02103267 0.02560124 0.02103267 0.01905008 0.02430825\n",
      " 0.02801483 0.02792863 0.02896302 0.0318076  0.03594518 0.04085855\n",
      " 0.04094475 0.04387553 0.04318593 0.04456512 0.03646237 0.02939402\n",
      " 0.0318076  0.02948022 0.01887768 0.02379105 0.01801569 0.03706577\n",
      " 0.04706491 0.04508232 0.03853116 0.04568572 0.04973709 0.04930609\n",
      " 0.05499526 0.05447806 0.04525472 0.04180674 0.04663391 0.04042755\n",
      " 0.03387639 0.03361779 0.02861822 0.04335833 0.05292647 0.05887423\n",
      " 0.05482286 0.05396087 0.05111628 0.0482717  0.05275407 0.0490475\n",
      " 0.04499612 0.03835876 0.03456599 0.03568658 0.03654857 0.02948022\n",
      " 0.02551504 0.03430739 0.03508318 0.0320662  0.02723903 0.01396431\n",
      " 0.02137747 0.02896302 0.03111801 0.04077235 0.03732437 0.03577278\n",
      " 0.032411   0.03335919 0.02560124 0.02267046 0.02292906 0.01965348\n",
      " 0.01749849 0.02782646 0.02641208 0.02602977]\n",
      "3 day output [[0.02634102]]\n",
      "4 day input [0.03103181 0.03016981 0.02560124 0.02206706 0.03094561 0.03844496\n",
      " 0.03922076 0.04197914 0.03973795 0.03853116 0.03870356 0.04215154\n",
      " 0.04042755 0.03810016 0.04284113 0.03870356 0.04284113 0.04318593\n",
      " 0.04637531 0.04353073 0.03335919 0.02775623 0.02034307 0.01491251\n",
      " 0.02103267 0.02560124 0.02103267 0.01905008 0.02430825 0.02801483\n",
      " 0.02792863 0.02896302 0.0318076  0.03594518 0.04085855 0.04094475\n",
      " 0.04387553 0.04318593 0.04456512 0.03646237 0.02939402 0.0318076\n",
      " 0.02948022 0.01887768 0.02379105 0.01801569 0.03706577 0.04706491\n",
      " 0.04508232 0.03853116 0.04568572 0.04973709 0.04930609 0.05499526\n",
      " 0.05447806 0.04525472 0.04180674 0.04663391 0.04042755 0.03387639\n",
      " 0.03361779 0.02861822 0.04335833 0.05292647 0.05887423 0.05482286\n",
      " 0.05396087 0.05111628 0.0482717  0.05275407 0.0490475  0.04499612\n",
      " 0.03835876 0.03456599 0.03568658 0.03654857 0.02948022 0.02551504\n",
      " 0.03430739 0.03508318 0.0320662  0.02723903 0.01396431 0.02137747\n",
      " 0.02896302 0.03111801 0.04077235 0.03732437 0.03577278 0.032411\n",
      " 0.03335919 0.02560124 0.02267046 0.02292906 0.01965348 0.01749849\n",
      " 0.02782646 0.02641208 0.02602977 0.02634102]\n",
      "4 day output [[0.0270232]]\n",
      "5 day input [0.03016981 0.02560124 0.02206706 0.03094561 0.03844496 0.03922076\n",
      " 0.04197914 0.03973795 0.03853116 0.03870356 0.04215154 0.04042755\n",
      " 0.03810016 0.04284113 0.03870356 0.04284113 0.04318593 0.04637531\n",
      " 0.04353073 0.03335919 0.02775623 0.02034307 0.01491251 0.02103267\n",
      " 0.02560124 0.02103267 0.01905008 0.02430825 0.02801483 0.02792863\n",
      " 0.02896302 0.0318076  0.03594518 0.04085855 0.04094475 0.04387553\n",
      " 0.04318593 0.04456512 0.03646237 0.02939402 0.0318076  0.02948022\n",
      " 0.01887768 0.02379105 0.01801569 0.03706577 0.04706491 0.04508232\n",
      " 0.03853116 0.04568572 0.04973709 0.04930609 0.05499526 0.05447806\n",
      " 0.04525472 0.04180674 0.04663391 0.04042755 0.03387639 0.03361779\n",
      " 0.02861822 0.04335833 0.05292647 0.05887423 0.05482286 0.05396087\n",
      " 0.05111628 0.0482717  0.05275407 0.0490475  0.04499612 0.03835876\n",
      " 0.03456599 0.03568658 0.03654857 0.02948022 0.02551504 0.03430739\n",
      " 0.03508318 0.0320662  0.02723903 0.01396431 0.02137747 0.02896302\n",
      " 0.03111801 0.04077235 0.03732437 0.03577278 0.032411   0.03335919\n",
      " 0.02560124 0.02267046 0.02292906 0.01965348 0.01749849 0.02782646\n",
      " 0.02641208 0.02602977 0.02634102 0.0270232 ]\n",
      "5 day output [[0.0278571]]\n",
      "6 day input [0.02560124 0.02206706 0.03094561 0.03844496 0.03922076 0.04197914\n",
      " 0.03973795 0.03853116 0.03870356 0.04215154 0.04042755 0.03810016\n",
      " 0.04284113 0.03870356 0.04284113 0.04318593 0.04637531 0.04353073\n",
      " 0.03335919 0.02775623 0.02034307 0.01491251 0.02103267 0.02560124\n",
      " 0.02103267 0.01905008 0.02430825 0.02801483 0.02792863 0.02896302\n",
      " 0.0318076  0.03594518 0.04085855 0.04094475 0.04387553 0.04318593\n",
      " 0.04456512 0.03646237 0.02939402 0.0318076  0.02948022 0.01887768\n",
      " 0.02379105 0.01801569 0.03706577 0.04706491 0.04508232 0.03853116\n",
      " 0.04568572 0.04973709 0.04930609 0.05499526 0.05447806 0.04525472\n",
      " 0.04180674 0.04663391 0.04042755 0.03387639 0.03361779 0.02861822\n",
      " 0.04335833 0.05292647 0.05887423 0.05482286 0.05396087 0.05111628\n",
      " 0.0482717  0.05275407 0.0490475  0.04499612 0.03835876 0.03456599\n",
      " 0.03568658 0.03654857 0.02948022 0.02551504 0.03430739 0.03508318\n",
      " 0.0320662  0.02723903 0.01396431 0.02137747 0.02896302 0.03111801\n",
      " 0.04077235 0.03732437 0.03577278 0.032411   0.03335919 0.02560124\n",
      " 0.02267046 0.02292906 0.01965348 0.01749849 0.02782646 0.02641208\n",
      " 0.02602977 0.02634102 0.0270232  0.0278571 ]\n",
      "6 day output [[0.02872084]]\n",
      "7 day input [0.02206706 0.03094561 0.03844496 0.03922076 0.04197914 0.03973795\n",
      " 0.03853116 0.03870356 0.04215154 0.04042755 0.03810016 0.04284113\n",
      " 0.03870356 0.04284113 0.04318593 0.04637531 0.04353073 0.03335919\n",
      " 0.02775623 0.02034307 0.01491251 0.02103267 0.02560124 0.02103267\n",
      " 0.01905008 0.02430825 0.02801483 0.02792863 0.02896302 0.0318076\n",
      " 0.03594518 0.04085855 0.04094475 0.04387553 0.04318593 0.04456512\n",
      " 0.03646237 0.02939402 0.0318076  0.02948022 0.01887768 0.02379105\n",
      " 0.01801569 0.03706577 0.04706491 0.04508232 0.03853116 0.04568572\n",
      " 0.04973709 0.04930609 0.05499526 0.05447806 0.04525472 0.04180674\n",
      " 0.04663391 0.04042755 0.03387639 0.03361779 0.02861822 0.04335833\n",
      " 0.05292647 0.05887423 0.05482286 0.05396087 0.05111628 0.0482717\n",
      " 0.05275407 0.0490475  0.04499612 0.03835876 0.03456599 0.03568658\n",
      " 0.03654857 0.02948022 0.02551504 0.03430739 0.03508318 0.0320662\n",
      " 0.02723903 0.01396431 0.02137747 0.02896302 0.03111801 0.04077235\n",
      " 0.03732437 0.03577278 0.032411   0.03335919 0.02560124 0.02267046\n",
      " 0.02292906 0.01965348 0.01749849 0.02782646 0.02641208 0.02602977\n",
      " 0.02634102 0.0270232  0.0278571  0.02872084]\n",
      "7 day output [[0.02955836]]\n",
      "8 day input [0.03094561 0.03844496 0.03922076 0.04197914 0.03973795 0.03853116\n",
      " 0.03870356 0.04215154 0.04042755 0.03810016 0.04284113 0.03870356\n",
      " 0.04284113 0.04318593 0.04637531 0.04353073 0.03335919 0.02775623\n",
      " 0.02034307 0.01491251 0.02103267 0.02560124 0.02103267 0.01905008\n",
      " 0.02430825 0.02801483 0.02792863 0.02896302 0.0318076  0.03594518\n",
      " 0.04085855 0.04094475 0.04387553 0.04318593 0.04456512 0.03646237\n",
      " 0.02939402 0.0318076  0.02948022 0.01887768 0.02379105 0.01801569\n",
      " 0.03706577 0.04706491 0.04508232 0.03853116 0.04568572 0.04973709\n",
      " 0.04930609 0.05499526 0.05447806 0.04525472 0.04180674 0.04663391\n",
      " 0.04042755 0.03387639 0.03361779 0.02861822 0.04335833 0.05292647\n",
      " 0.05887423 0.05482286 0.05396087 0.05111628 0.0482717  0.05275407\n",
      " 0.0490475  0.04499612 0.03835876 0.03456599 0.03568658 0.03654857\n",
      " 0.02948022 0.02551504 0.03430739 0.03508318 0.0320662  0.02723903\n",
      " 0.01396431 0.02137747 0.02896302 0.03111801 0.04077235 0.03732437\n",
      " 0.03577278 0.032411   0.03335919 0.02560124 0.02267046 0.02292906\n",
      " 0.01965348 0.01749849 0.02782646 0.02641208 0.02602977 0.02634102\n",
      " 0.0270232  0.0278571  0.02872084 0.02955836]\n",
      "8 day output [[0.03035011]]\n",
      "9 day input [0.03844496 0.03922076 0.04197914 0.03973795 0.03853116 0.03870356\n",
      " 0.04215154 0.04042755 0.03810016 0.04284113 0.03870356 0.04284113\n",
      " 0.04318593 0.04637531 0.04353073 0.03335919 0.02775623 0.02034307\n",
      " 0.01491251 0.02103267 0.02560124 0.02103267 0.01905008 0.02430825\n",
      " 0.02801483 0.02792863 0.02896302 0.0318076  0.03594518 0.04085855\n",
      " 0.04094475 0.04387553 0.04318593 0.04456512 0.03646237 0.02939402\n",
      " 0.0318076  0.02948022 0.01887768 0.02379105 0.01801569 0.03706577\n",
      " 0.04706491 0.04508232 0.03853116 0.04568572 0.04973709 0.04930609\n",
      " 0.05499526 0.05447806 0.04525472 0.04180674 0.04663391 0.04042755\n",
      " 0.03387639 0.03361779 0.02861822 0.04335833 0.05292647 0.05887423\n",
      " 0.05482286 0.05396087 0.05111628 0.0482717  0.05275407 0.0490475\n",
      " 0.04499612 0.03835876 0.03456599 0.03568658 0.03654857 0.02948022\n",
      " 0.02551504 0.03430739 0.03508318 0.0320662  0.02723903 0.01396431\n",
      " 0.02137747 0.02896302 0.03111801 0.04077235 0.03732437 0.03577278\n",
      " 0.032411   0.03335919 0.02560124 0.02267046 0.02292906 0.01965348\n",
      " 0.01749849 0.02782646 0.02641208 0.02602977 0.02634102 0.0270232\n",
      " 0.0278571  0.02872084 0.02955836 0.03035011]\n",
      "9 day output [[0.03109357]]\n",
      "10 day input [0.03922076 0.04197914 0.03973795 0.03853116 0.03870356 0.04215154\n",
      " 0.04042755 0.03810016 0.04284113 0.03870356 0.04284113 0.04318593\n",
      " 0.04637531 0.04353073 0.03335919 0.02775623 0.02034307 0.01491251\n",
      " 0.02103267 0.02560124 0.02103267 0.01905008 0.02430825 0.02801483\n",
      " 0.02792863 0.02896302 0.0318076  0.03594518 0.04085855 0.04094475\n",
      " 0.04387553 0.04318593 0.04456512 0.03646237 0.02939402 0.0318076\n",
      " 0.02948022 0.01887768 0.02379105 0.01801569 0.03706577 0.04706491\n",
      " 0.04508232 0.03853116 0.04568572 0.04973709 0.04930609 0.05499526\n",
      " 0.05447806 0.04525472 0.04180674 0.04663391 0.04042755 0.03387639\n",
      " 0.03361779 0.02861822 0.04335833 0.05292647 0.05887423 0.05482286\n",
      " 0.05396087 0.05111628 0.0482717  0.05275407 0.0490475  0.04499612\n",
      " 0.03835876 0.03456599 0.03568658 0.03654857 0.02948022 0.02551504\n",
      " 0.03430739 0.03508318 0.0320662  0.02723903 0.01396431 0.02137747\n",
      " 0.02896302 0.03111801 0.04077235 0.03732437 0.03577278 0.032411\n",
      " 0.03335919 0.02560124 0.02267046 0.02292906 0.01965348 0.01749849\n",
      " 0.02782646 0.02641208 0.02602977 0.02634102 0.0270232  0.0278571\n",
      " 0.02872084 0.02955836 0.03035011 0.03109357]\n",
      "10 day output [[0.03179257]]\n",
      "11 day input [0.04197914 0.03973795 0.03853116 0.03870356 0.04215154 0.04042755\n",
      " 0.03810016 0.04284113 0.03870356 0.04284113 0.04318593 0.04637531\n",
      " 0.04353073 0.03335919 0.02775623 0.02034307 0.01491251 0.02103267\n",
      " 0.02560124 0.02103267 0.01905008 0.02430825 0.02801483 0.02792863\n",
      " 0.02896302 0.0318076  0.03594518 0.04085855 0.04094475 0.04387553\n",
      " 0.04318593 0.04456512 0.03646237 0.02939402 0.0318076  0.02948022\n",
      " 0.01887768 0.02379105 0.01801569 0.03706577 0.04706491 0.04508232\n",
      " 0.03853116 0.04568572 0.04973709 0.04930609 0.05499526 0.05447806\n",
      " 0.04525472 0.04180674 0.04663391 0.04042755 0.03387639 0.03361779\n",
      " 0.02861822 0.04335833 0.05292647 0.05887423 0.05482286 0.05396087\n",
      " 0.05111628 0.0482717  0.05275407 0.0490475  0.04499612 0.03835876\n",
      " 0.03456599 0.03568658 0.03654857 0.02948022 0.02551504 0.03430739\n",
      " 0.03508318 0.0320662  0.02723903 0.01396431 0.02137747 0.02896302\n",
      " 0.03111801 0.04077235 0.03732437 0.03577278 0.032411   0.03335919\n",
      " 0.02560124 0.02267046 0.02292906 0.01965348 0.01749849 0.02782646\n",
      " 0.02641208 0.02602977 0.02634102 0.0270232  0.0278571  0.02872084\n",
      " 0.02955836 0.03035011 0.03109357 0.03179257]\n",
      "11 day output [[0.03245246]]\n",
      "12 day input [0.03973795 0.03853116 0.03870356 0.04215154 0.04042755 0.03810016\n",
      " 0.04284113 0.03870356 0.04284113 0.04318593 0.04637531 0.04353073\n",
      " 0.03335919 0.02775623 0.02034307 0.01491251 0.02103267 0.02560124\n",
      " 0.02103267 0.01905008 0.02430825 0.02801483 0.02792863 0.02896302\n",
      " 0.0318076  0.03594518 0.04085855 0.04094475 0.04387553 0.04318593\n",
      " 0.04456512 0.03646237 0.02939402 0.0318076  0.02948022 0.01887768\n",
      " 0.02379105 0.01801569 0.03706577 0.04706491 0.04508232 0.03853116\n",
      " 0.04568572 0.04973709 0.04930609 0.05499526 0.05447806 0.04525472\n",
      " 0.04180674 0.04663391 0.04042755 0.03387639 0.03361779 0.02861822\n",
      " 0.04335833 0.05292647 0.05887423 0.05482286 0.05396087 0.05111628\n",
      " 0.0482717  0.05275407 0.0490475  0.04499612 0.03835876 0.03456599\n",
      " 0.03568658 0.03654857 0.02948022 0.02551504 0.03430739 0.03508318\n",
      " 0.0320662  0.02723903 0.01396431 0.02137747 0.02896302 0.03111801\n",
      " 0.04077235 0.03732437 0.03577278 0.032411   0.03335919 0.02560124\n",
      " 0.02267046 0.02292906 0.01965348 0.01749849 0.02782646 0.02641208\n",
      " 0.02602977 0.02634102 0.0270232  0.0278571  0.02872084 0.02955836\n",
      " 0.03035011 0.03109357 0.03179257 0.03245246]\n",
      "12 day output [[0.03307843]]\n",
      "13 day input [0.03853116 0.03870356 0.04215154 0.04042755 0.03810016 0.04284113\n",
      " 0.03870356 0.04284113 0.04318593 0.04637531 0.04353073 0.03335919\n",
      " 0.02775623 0.02034307 0.01491251 0.02103267 0.02560124 0.02103267\n",
      " 0.01905008 0.02430825 0.02801483 0.02792863 0.02896302 0.0318076\n",
      " 0.03594518 0.04085855 0.04094475 0.04387553 0.04318593 0.04456512\n",
      " 0.03646237 0.02939402 0.0318076  0.02948022 0.01887768 0.02379105\n",
      " 0.01801569 0.03706577 0.04706491 0.04508232 0.03853116 0.04568572\n",
      " 0.04973709 0.04930609 0.05499526 0.05447806 0.04525472 0.04180674\n",
      " 0.04663391 0.04042755 0.03387639 0.03361779 0.02861822 0.04335833\n",
      " 0.05292647 0.05887423 0.05482286 0.05396087 0.05111628 0.0482717\n",
      " 0.05275407 0.0490475  0.04499612 0.03835876 0.03456599 0.03568658\n",
      " 0.03654857 0.02948022 0.02551504 0.03430739 0.03508318 0.0320662\n",
      " 0.02723903 0.01396431 0.02137747 0.02896302 0.03111801 0.04077235\n",
      " 0.03732437 0.03577278 0.032411   0.03335919 0.02560124 0.02267046\n",
      " 0.02292906 0.01965348 0.01749849 0.02782646 0.02641208 0.02602977\n",
      " 0.02634102 0.0270232  0.0278571  0.02872084 0.02955836 0.03035011\n",
      " 0.03109357 0.03179257 0.03245246 0.03307843]\n",
      "13 day output [[0.03367508]]\n",
      "14 day input [0.03870356 0.04215154 0.04042755 0.03810016 0.04284113 0.03870356\n",
      " 0.04284113 0.04318593 0.04637531 0.04353073 0.03335919 0.02775623\n",
      " 0.02034307 0.01491251 0.02103267 0.02560124 0.02103267 0.01905008\n",
      " 0.02430825 0.02801483 0.02792863 0.02896302 0.0318076  0.03594518\n",
      " 0.04085855 0.04094475 0.04387553 0.04318593 0.04456512 0.03646237\n",
      " 0.02939402 0.0318076  0.02948022 0.01887768 0.02379105 0.01801569\n",
      " 0.03706577 0.04706491 0.04508232 0.03853116 0.04568572 0.04973709\n",
      " 0.04930609 0.05499526 0.05447806 0.04525472 0.04180674 0.04663391\n",
      " 0.04042755 0.03387639 0.03361779 0.02861822 0.04335833 0.05292647\n",
      " 0.05887423 0.05482286 0.05396087 0.05111628 0.0482717  0.05275407\n",
      " 0.0490475  0.04499612 0.03835876 0.03456599 0.03568658 0.03654857\n",
      " 0.02948022 0.02551504 0.03430739 0.03508318 0.0320662  0.02723903\n",
      " 0.01396431 0.02137747 0.02896302 0.03111801 0.04077235 0.03732437\n",
      " 0.03577278 0.032411   0.03335919 0.02560124 0.02267046 0.02292906\n",
      " 0.01965348 0.01749849 0.02782646 0.02641208 0.02602977 0.02634102\n",
      " 0.0270232  0.0278571  0.02872084 0.02955836 0.03035011 0.03109357\n",
      " 0.03179257 0.03245246 0.03307843 0.03367508]\n",
      "14 day output [[0.03424647]]\n",
      "15 day input [0.04215154 0.04042755 0.03810016 0.04284113 0.03870356 0.04284113\n",
      " 0.04318593 0.04637531 0.04353073 0.03335919 0.02775623 0.02034307\n",
      " 0.01491251 0.02103267 0.02560124 0.02103267 0.01905008 0.02430825\n",
      " 0.02801483 0.02792863 0.02896302 0.0318076  0.03594518 0.04085855\n",
      " 0.04094475 0.04387553 0.04318593 0.04456512 0.03646237 0.02939402\n",
      " 0.0318076  0.02948022 0.01887768 0.02379105 0.01801569 0.03706577\n",
      " 0.04706491 0.04508232 0.03853116 0.04568572 0.04973709 0.04930609\n",
      " 0.05499526 0.05447806 0.04525472 0.04180674 0.04663391 0.04042755\n",
      " 0.03387639 0.03361779 0.02861822 0.04335833 0.05292647 0.05887423\n",
      " 0.05482286 0.05396087 0.05111628 0.0482717  0.05275407 0.0490475\n",
      " 0.04499612 0.03835876 0.03456599 0.03568658 0.03654857 0.02948022\n",
      " 0.02551504 0.03430739 0.03508318 0.0320662  0.02723903 0.01396431\n",
      " 0.02137747 0.02896302 0.03111801 0.04077235 0.03732437 0.03577278\n",
      " 0.032411   0.03335919 0.02560124 0.02267046 0.02292906 0.01965348\n",
      " 0.01749849 0.02782646 0.02641208 0.02602977 0.02634102 0.0270232\n",
      " 0.0278571  0.02872084 0.02955836 0.03035011 0.03109357 0.03179257\n",
      " 0.03245246 0.03307843 0.03367508 0.03424647]\n",
      "15 day output [[0.03479621]]\n",
      "16 day input [0.04042755 0.03810016 0.04284113 0.03870356 0.04284113 0.04318593\n",
      " 0.04637531 0.04353073 0.03335919 0.02775623 0.02034307 0.01491251\n",
      " 0.02103267 0.02560124 0.02103267 0.01905008 0.02430825 0.02801483\n",
      " 0.02792863 0.02896302 0.0318076  0.03594518 0.04085855 0.04094475\n",
      " 0.04387553 0.04318593 0.04456512 0.03646237 0.02939402 0.0318076\n",
      " 0.02948022 0.01887768 0.02379105 0.01801569 0.03706577 0.04706491\n",
      " 0.04508232 0.03853116 0.04568572 0.04973709 0.04930609 0.05499526\n",
      " 0.05447806 0.04525472 0.04180674 0.04663391 0.04042755 0.03387639\n",
      " 0.03361779 0.02861822 0.04335833 0.05292647 0.05887423 0.05482286\n",
      " 0.05396087 0.05111628 0.0482717  0.05275407 0.0490475  0.04499612\n",
      " 0.03835876 0.03456599 0.03568658 0.03654857 0.02948022 0.02551504\n",
      " 0.03430739 0.03508318 0.0320662  0.02723903 0.01396431 0.02137747\n",
      " 0.02896302 0.03111801 0.04077235 0.03732437 0.03577278 0.032411\n",
      " 0.03335919 0.02560124 0.02267046 0.02292906 0.01965348 0.01749849\n",
      " 0.02782646 0.02641208 0.02602977 0.02634102 0.0270232  0.0278571\n",
      " 0.02872084 0.02955836 0.03035011 0.03109357 0.03179257 0.03245246\n",
      " 0.03307843 0.03367508 0.03424647 0.03479621]\n",
      "16 day output [[0.03532745]]\n",
      "17 day input [0.03810016 0.04284113 0.03870356 0.04284113 0.04318593 0.04637531\n",
      " 0.04353073 0.03335919 0.02775623 0.02034307 0.01491251 0.02103267\n",
      " 0.02560124 0.02103267 0.01905008 0.02430825 0.02801483 0.02792863\n",
      " 0.02896302 0.0318076  0.03594518 0.04085855 0.04094475 0.04387553\n",
      " 0.04318593 0.04456512 0.03646237 0.02939402 0.0318076  0.02948022\n",
      " 0.01887768 0.02379105 0.01801569 0.03706577 0.04706491 0.04508232\n",
      " 0.03853116 0.04568572 0.04973709 0.04930609 0.05499526 0.05447806\n",
      " 0.04525472 0.04180674 0.04663391 0.04042755 0.03387639 0.03361779\n",
      " 0.02861822 0.04335833 0.05292647 0.05887423 0.05482286 0.05396087\n",
      " 0.05111628 0.0482717  0.05275407 0.0490475  0.04499612 0.03835876\n",
      " 0.03456599 0.03568658 0.03654857 0.02948022 0.02551504 0.03430739\n",
      " 0.03508318 0.0320662  0.02723903 0.01396431 0.02137747 0.02896302\n",
      " 0.03111801 0.04077235 0.03732437 0.03577278 0.032411   0.03335919\n",
      " 0.02560124 0.02267046 0.02292906 0.01965348 0.01749849 0.02782646\n",
      " 0.02641208 0.02602977 0.02634102 0.0270232  0.0278571  0.02872084\n",
      " 0.02955836 0.03035011 0.03109357 0.03179257 0.03245246 0.03307843\n",
      " 0.03367508 0.03424647 0.03479621 0.03532745]\n",
      "17 day output [[0.03584295]]\n",
      "18 day input [0.04284113 0.03870356 0.04284113 0.04318593 0.04637531 0.04353073\n",
      " 0.03335919 0.02775623 0.02034307 0.01491251 0.02103267 0.02560124\n",
      " 0.02103267 0.01905008 0.02430825 0.02801483 0.02792863 0.02896302\n",
      " 0.0318076  0.03594518 0.04085855 0.04094475 0.04387553 0.04318593\n",
      " 0.04456512 0.03646237 0.02939402 0.0318076  0.02948022 0.01887768\n",
      " 0.02379105 0.01801569 0.03706577 0.04706491 0.04508232 0.03853116\n",
      " 0.04568572 0.04973709 0.04930609 0.05499526 0.05447806 0.04525472\n",
      " 0.04180674 0.04663391 0.04042755 0.03387639 0.03361779 0.02861822\n",
      " 0.04335833 0.05292647 0.05887423 0.05482286 0.05396087 0.05111628\n",
      " 0.0482717  0.05275407 0.0490475  0.04499612 0.03835876 0.03456599\n",
      " 0.03568658 0.03654857 0.02948022 0.02551504 0.03430739 0.03508318\n",
      " 0.0320662  0.02723903 0.01396431 0.02137747 0.02896302 0.03111801\n",
      " 0.04077235 0.03732437 0.03577278 0.032411   0.03335919 0.02560124\n",
      " 0.02267046 0.02292906 0.01965348 0.01749849 0.02782646 0.02641208\n",
      " 0.02602977 0.02634102 0.0270232  0.0278571  0.02872084 0.02955836\n",
      " 0.03035011 0.03109357 0.03179257 0.03245246 0.03307843 0.03367508\n",
      " 0.03424647 0.03479621 0.03532745 0.03584295]\n",
      "18 day output [[0.03634503]]\n",
      "19 day input [0.03870356 0.04284113 0.04318593 0.04637531 0.04353073 0.03335919\n",
      " 0.02775623 0.02034307 0.01491251 0.02103267 0.02560124 0.02103267\n",
      " 0.01905008 0.02430825 0.02801483 0.02792863 0.02896302 0.0318076\n",
      " 0.03594518 0.04085855 0.04094475 0.04387553 0.04318593 0.04456512\n",
      " 0.03646237 0.02939402 0.0318076  0.02948022 0.01887768 0.02379105\n",
      " 0.01801569 0.03706577 0.04706491 0.04508232 0.03853116 0.04568572\n",
      " 0.04973709 0.04930609 0.05499526 0.05447806 0.04525472 0.04180674\n",
      " 0.04663391 0.04042755 0.03387639 0.03361779 0.02861822 0.04335833\n",
      " 0.05292647 0.05887423 0.05482286 0.05396087 0.05111628 0.0482717\n",
      " 0.05275407 0.0490475  0.04499612 0.03835876 0.03456599 0.03568658\n",
      " 0.03654857 0.02948022 0.02551504 0.03430739 0.03508318 0.0320662\n",
      " 0.02723903 0.01396431 0.02137747 0.02896302 0.03111801 0.04077235\n",
      " 0.03732437 0.03577278 0.032411   0.03335919 0.02560124 0.02267046\n",
      " 0.02292906 0.01965348 0.01749849 0.02782646 0.02641208 0.02602977\n",
      " 0.02634102 0.0270232  0.0278571  0.02872084 0.02955836 0.03035011\n",
      " 0.03109357 0.03179257 0.03245246 0.03307843 0.03367508 0.03424647\n",
      " 0.03479621 0.03532745 0.03584295 0.03634503]\n",
      "19 day output [[0.03683553]]\n",
      "20 day input [0.04284113 0.04318593 0.04637531 0.04353073 0.03335919 0.02775623\n",
      " 0.02034307 0.01491251 0.02103267 0.02560124 0.02103267 0.01905008\n",
      " 0.02430825 0.02801483 0.02792863 0.02896302 0.0318076  0.03594518\n",
      " 0.04085855 0.04094475 0.04387553 0.04318593 0.04456512 0.03646237\n",
      " 0.02939402 0.0318076  0.02948022 0.01887768 0.02379105 0.01801569\n",
      " 0.03706577 0.04706491 0.04508232 0.03853116 0.04568572 0.04973709\n",
      " 0.04930609 0.05499526 0.05447806 0.04525472 0.04180674 0.04663391\n",
      " 0.04042755 0.03387639 0.03361779 0.02861822 0.04335833 0.05292647\n",
      " 0.05887423 0.05482286 0.05396087 0.05111628 0.0482717  0.05275407\n",
      " 0.0490475  0.04499612 0.03835876 0.03456599 0.03568658 0.03654857\n",
      " 0.02948022 0.02551504 0.03430739 0.03508318 0.0320662  0.02723903\n",
      " 0.01396431 0.02137747 0.02896302 0.03111801 0.04077235 0.03732437\n",
      " 0.03577278 0.032411   0.03335919 0.02560124 0.02267046 0.02292906\n",
      " 0.01965348 0.01749849 0.02782646 0.02641208 0.02602977 0.02634102\n",
      " 0.0270232  0.0278571  0.02872084 0.02955836 0.03035011 0.03109357\n",
      " 0.03179257 0.03245246 0.03307843 0.03367508 0.03424647 0.03479621\n",
      " 0.03532745 0.03584295 0.03634503 0.03683553]\n",
      "20 day output [[0.03731597]]\n",
      "21 day input [0.04318593 0.04637531 0.04353073 0.03335919 0.02775623 0.02034307\n",
      " 0.01491251 0.02103267 0.02560124 0.02103267 0.01905008 0.02430825\n",
      " 0.02801483 0.02792863 0.02896302 0.0318076  0.03594518 0.04085855\n",
      " 0.04094475 0.04387553 0.04318593 0.04456512 0.03646237 0.02939402\n",
      " 0.0318076  0.02948022 0.01887768 0.02379105 0.01801569 0.03706577\n",
      " 0.04706491 0.04508232 0.03853116 0.04568572 0.04973709 0.04930609\n",
      " 0.05499526 0.05447806 0.04525472 0.04180674 0.04663391 0.04042755\n",
      " 0.03387639 0.03361779 0.02861822 0.04335833 0.05292647 0.05887423\n",
      " 0.05482286 0.05396087 0.05111628 0.0482717  0.05275407 0.0490475\n",
      " 0.04499612 0.03835876 0.03456599 0.03568658 0.03654857 0.02948022\n",
      " 0.02551504 0.03430739 0.03508318 0.0320662  0.02723903 0.01396431\n",
      " 0.02137747 0.02896302 0.03111801 0.04077235 0.03732437 0.03577278\n",
      " 0.032411   0.03335919 0.02560124 0.02267046 0.02292906 0.01965348\n",
      " 0.01749849 0.02782646 0.02641208 0.02602977 0.02634102 0.0270232\n",
      " 0.0278571  0.02872084 0.02955836 0.03035011 0.03109357 0.03179257\n",
      " 0.03245246 0.03307843 0.03367508 0.03424647 0.03479621 0.03532745\n",
      " 0.03584295 0.03634503 0.03683553 0.03731597]\n",
      "21 day output [[0.03778741]]\n",
      "22 day input [0.04637531 0.04353073 0.03335919 0.02775623 0.02034307 0.01491251\n",
      " 0.02103267 0.02560124 0.02103267 0.01905008 0.02430825 0.02801483\n",
      " 0.02792863 0.02896302 0.0318076  0.03594518 0.04085855 0.04094475\n",
      " 0.04387553 0.04318593 0.04456512 0.03646237 0.02939402 0.0318076\n",
      " 0.02948022 0.01887768 0.02379105 0.01801569 0.03706577 0.04706491\n",
      " 0.04508232 0.03853116 0.04568572 0.04973709 0.04930609 0.05499526\n",
      " 0.05447806 0.04525472 0.04180674 0.04663391 0.04042755 0.03387639\n",
      " 0.03361779 0.02861822 0.04335833 0.05292647 0.05887423 0.05482286\n",
      " 0.05396087 0.05111628 0.0482717  0.05275407 0.0490475  0.04499612\n",
      " 0.03835876 0.03456599 0.03568658 0.03654857 0.02948022 0.02551504\n",
      " 0.03430739 0.03508318 0.0320662  0.02723903 0.01396431 0.02137747\n",
      " 0.02896302 0.03111801 0.04077235 0.03732437 0.03577278 0.032411\n",
      " 0.03335919 0.02560124 0.02267046 0.02292906 0.01965348 0.01749849\n",
      " 0.02782646 0.02641208 0.02602977 0.02634102 0.0270232  0.0278571\n",
      " 0.02872084 0.02955836 0.03035011 0.03109357 0.03179257 0.03245246\n",
      " 0.03307843 0.03367508 0.03424647 0.03479621 0.03532745 0.03584295\n",
      " 0.03634503 0.03683553 0.03731597 0.03778741]\n",
      "22 day output [[0.03825063]]\n",
      "23 day input [0.04353073 0.03335919 0.02775623 0.02034307 0.01491251 0.02103267\n",
      " 0.02560124 0.02103267 0.01905008 0.02430825 0.02801483 0.02792863\n",
      " 0.02896302 0.0318076  0.03594518 0.04085855 0.04094475 0.04387553\n",
      " 0.04318593 0.04456512 0.03646237 0.02939402 0.0318076  0.02948022\n",
      " 0.01887768 0.02379105 0.01801569 0.03706577 0.04706491 0.04508232\n",
      " 0.03853116 0.04568572 0.04973709 0.04930609 0.05499526 0.05447806\n",
      " 0.04525472 0.04180674 0.04663391 0.04042755 0.03387639 0.03361779\n",
      " 0.02861822 0.04335833 0.05292647 0.05887423 0.05482286 0.05396087\n",
      " 0.05111628 0.0482717  0.05275407 0.0490475  0.04499612 0.03835876\n",
      " 0.03456599 0.03568658 0.03654857 0.02948022 0.02551504 0.03430739\n",
      " 0.03508318 0.0320662  0.02723903 0.01396431 0.02137747 0.02896302\n",
      " 0.03111801 0.04077235 0.03732437 0.03577278 0.032411   0.03335919\n",
      " 0.02560124 0.02267046 0.02292906 0.01965348 0.01749849 0.02782646\n",
      " 0.02641208 0.02602977 0.02634102 0.0270232  0.0278571  0.02872084\n",
      " 0.02955836 0.03035011 0.03109357 0.03179257 0.03245246 0.03307843\n",
      " 0.03367508 0.03424647 0.03479621 0.03532745 0.03584295 0.03634503\n",
      " 0.03683553 0.03731597 0.03778741 0.03825063]\n",
      "23 day output [[0.03870619]]\n",
      "24 day input [0.03335919 0.02775623 0.02034307 0.01491251 0.02103267 0.02560124\n",
      " 0.02103267 0.01905008 0.02430825 0.02801483 0.02792863 0.02896302\n",
      " 0.0318076  0.03594518 0.04085855 0.04094475 0.04387553 0.04318593\n",
      " 0.04456512 0.03646237 0.02939402 0.0318076  0.02948022 0.01887768\n",
      " 0.02379105 0.01801569 0.03706577 0.04706491 0.04508232 0.03853116\n",
      " 0.04568572 0.04973709 0.04930609 0.05499526 0.05447806 0.04525472\n",
      " 0.04180674 0.04663391 0.04042755 0.03387639 0.03361779 0.02861822\n",
      " 0.04335833 0.05292647 0.05887423 0.05482286 0.05396087 0.05111628\n",
      " 0.0482717  0.05275407 0.0490475  0.04499612 0.03835876 0.03456599\n",
      " 0.03568658 0.03654857 0.02948022 0.02551504 0.03430739 0.03508318\n",
      " 0.0320662  0.02723903 0.01396431 0.02137747 0.02896302 0.03111801\n",
      " 0.04077235 0.03732437 0.03577278 0.032411   0.03335919 0.02560124\n",
      " 0.02267046 0.02292906 0.01965348 0.01749849 0.02782646 0.02641208\n",
      " 0.02602977 0.02634102 0.0270232  0.0278571  0.02872084 0.02955836\n",
      " 0.03035011 0.03109357 0.03179257 0.03245246 0.03307843 0.03367508\n",
      " 0.03424647 0.03479621 0.03532745 0.03584295 0.03634503 0.03683553\n",
      " 0.03731597 0.03778741 0.03825063 0.03870619]\n",
      "24 day output [[0.03915443]]\n",
      "25 day input [0.02775623 0.02034307 0.01491251 0.02103267 0.02560124 0.02103267\n",
      " 0.01905008 0.02430825 0.02801483 0.02792863 0.02896302 0.0318076\n",
      " 0.03594518 0.04085855 0.04094475 0.04387553 0.04318593 0.04456512\n",
      " 0.03646237 0.02939402 0.0318076  0.02948022 0.01887768 0.02379105\n",
      " 0.01801569 0.03706577 0.04706491 0.04508232 0.03853116 0.04568572\n",
      " 0.04973709 0.04930609 0.05499526 0.05447806 0.04525472 0.04180674\n",
      " 0.04663391 0.04042755 0.03387639 0.03361779 0.02861822 0.04335833\n",
      " 0.05292647 0.05887423 0.05482286 0.05396087 0.05111628 0.0482717\n",
      " 0.05275407 0.0490475  0.04499612 0.03835876 0.03456599 0.03568658\n",
      " 0.03654857 0.02948022 0.02551504 0.03430739 0.03508318 0.0320662\n",
      " 0.02723903 0.01396431 0.02137747 0.02896302 0.03111801 0.04077235\n",
      " 0.03732437 0.03577278 0.032411   0.03335919 0.02560124 0.02267046\n",
      " 0.02292906 0.01965348 0.01749849 0.02782646 0.02641208 0.02602977\n",
      " 0.02634102 0.0270232  0.0278571  0.02872084 0.02955836 0.03035011\n",
      " 0.03109357 0.03179257 0.03245246 0.03307843 0.03367508 0.03424647\n",
      " 0.03479621 0.03532745 0.03584295 0.03634503 0.03683553 0.03731597\n",
      " 0.03778741 0.03825063 0.03870619 0.03915443]\n",
      "25 day output [[0.03959551]]\n",
      "26 day input [0.02034307 0.01491251 0.02103267 0.02560124 0.02103267 0.01905008\n",
      " 0.02430825 0.02801483 0.02792863 0.02896302 0.0318076  0.03594518\n",
      " 0.04085855 0.04094475 0.04387553 0.04318593 0.04456512 0.03646237\n",
      " 0.02939402 0.0318076  0.02948022 0.01887768 0.02379105 0.01801569\n",
      " 0.03706577 0.04706491 0.04508232 0.03853116 0.04568572 0.04973709\n",
      " 0.04930609 0.05499526 0.05447806 0.04525472 0.04180674 0.04663391\n",
      " 0.04042755 0.03387639 0.03361779 0.02861822 0.04335833 0.05292647\n",
      " 0.05887423 0.05482286 0.05396087 0.05111628 0.0482717  0.05275407\n",
      " 0.0490475  0.04499612 0.03835876 0.03456599 0.03568658 0.03654857\n",
      " 0.02948022 0.02551504 0.03430739 0.03508318 0.0320662  0.02723903\n",
      " 0.01396431 0.02137747 0.02896302 0.03111801 0.04077235 0.03732437\n",
      " 0.03577278 0.032411   0.03335919 0.02560124 0.02267046 0.02292906\n",
      " 0.01965348 0.01749849 0.02782646 0.02641208 0.02602977 0.02634102\n",
      " 0.0270232  0.0278571  0.02872084 0.02955836 0.03035011 0.03109357\n",
      " 0.03179257 0.03245246 0.03307843 0.03367508 0.03424647 0.03479621\n",
      " 0.03532745 0.03584295 0.03634503 0.03683553 0.03731597 0.03778741\n",
      " 0.03825063 0.03870619 0.03915443 0.03959551]\n",
      "26 day output [[0.04002959]]\n",
      "27 day input [0.01491251 0.02103267 0.02560124 0.02103267 0.01905008 0.02430825\n",
      " 0.02801483 0.02792863 0.02896302 0.0318076  0.03594518 0.04085855\n",
      " 0.04094475 0.04387553 0.04318593 0.04456512 0.03646237 0.02939402\n",
      " 0.0318076  0.02948022 0.01887768 0.02379105 0.01801569 0.03706577\n",
      " 0.04706491 0.04508232 0.03853116 0.04568572 0.04973709 0.04930609\n",
      " 0.05499526 0.05447806 0.04525472 0.04180674 0.04663391 0.04042755\n",
      " 0.03387639 0.03361779 0.02861822 0.04335833 0.05292647 0.05887423\n",
      " 0.05482286 0.05396087 0.05111628 0.0482717  0.05275407 0.0490475\n",
      " 0.04499612 0.03835876 0.03456599 0.03568658 0.03654857 0.02948022\n",
      " 0.02551504 0.03430739 0.03508318 0.0320662  0.02723903 0.01396431\n",
      " 0.02137747 0.02896302 0.03111801 0.04077235 0.03732437 0.03577278\n",
      " 0.032411   0.03335919 0.02560124 0.02267046 0.02292906 0.01965348\n",
      " 0.01749849 0.02782646 0.02641208 0.02602977 0.02634102 0.0270232\n",
      " 0.0278571  0.02872084 0.02955836 0.03035011 0.03109357 0.03179257\n",
      " 0.03245246 0.03307843 0.03367508 0.03424647 0.03479621 0.03532745\n",
      " 0.03584295 0.03634503 0.03683553 0.03731597 0.03778741 0.03825063\n",
      " 0.03870619 0.03915443 0.03959551 0.04002959]\n",
      "27 day output [[0.04045669]]\n",
      "28 day input [0.02103267 0.02560124 0.02103267 0.01905008 0.02430825 0.02801483\n",
      " 0.02792863 0.02896302 0.0318076  0.03594518 0.04085855 0.04094475\n",
      " 0.04387553 0.04318593 0.04456512 0.03646237 0.02939402 0.0318076\n",
      " 0.02948022 0.01887768 0.02379105 0.01801569 0.03706577 0.04706491\n",
      " 0.04508232 0.03853116 0.04568572 0.04973709 0.04930609 0.05499526\n",
      " 0.05447806 0.04525472 0.04180674 0.04663391 0.04042755 0.03387639\n",
      " 0.03361779 0.02861822 0.04335833 0.05292647 0.05887423 0.05482286\n",
      " 0.05396087 0.05111628 0.0482717  0.05275407 0.0490475  0.04499612\n",
      " 0.03835876 0.03456599 0.03568658 0.03654857 0.02948022 0.02551504\n",
      " 0.03430739 0.03508318 0.0320662  0.02723903 0.01396431 0.02137747\n",
      " 0.02896302 0.03111801 0.04077235 0.03732437 0.03577278 0.032411\n",
      " 0.03335919 0.02560124 0.02267046 0.02292906 0.01965348 0.01749849\n",
      " 0.02782646 0.02641208 0.02602977 0.02634102 0.0270232  0.0278571\n",
      " 0.02872084 0.02955836 0.03035011 0.03109357 0.03179257 0.03245246\n",
      " 0.03307843 0.03367508 0.03424647 0.03479621 0.03532745 0.03584295\n",
      " 0.03634503 0.03683553 0.03731597 0.03778741 0.03825063 0.03870619\n",
      " 0.03915443 0.03959551 0.04002959 0.04045669]\n",
      "28 day output [[0.04087687]]\n",
      "29 day input [0.02560124 0.02103267 0.01905008 0.02430825 0.02801483 0.02792863\n",
      " 0.02896302 0.0318076  0.03594518 0.04085855 0.04094475 0.04387553\n",
      " 0.04318593 0.04456512 0.03646237 0.02939402 0.0318076  0.02948022\n",
      " 0.01887768 0.02379105 0.01801569 0.03706577 0.04706491 0.04508232\n",
      " 0.03853116 0.04568572 0.04973709 0.04930609 0.05499526 0.05447806\n",
      " 0.04525472 0.04180674 0.04663391 0.04042755 0.03387639 0.03361779\n",
      " 0.02861822 0.04335833 0.05292647 0.05887423 0.05482286 0.05396087\n",
      " 0.05111628 0.0482717  0.05275407 0.0490475  0.04499612 0.03835876\n",
      " 0.03456599 0.03568658 0.03654857 0.02948022 0.02551504 0.03430739\n",
      " 0.03508318 0.0320662  0.02723903 0.01396431 0.02137747 0.02896302\n",
      " 0.03111801 0.04077235 0.03732437 0.03577278 0.032411   0.03335919\n",
      " 0.02560124 0.02267046 0.02292906 0.01965348 0.01749849 0.02782646\n",
      " 0.02641208 0.02602977 0.02634102 0.0270232  0.0278571  0.02872084\n",
      " 0.02955836 0.03035011 0.03109357 0.03179257 0.03245246 0.03307843\n",
      " 0.03367508 0.03424647 0.03479621 0.03532745 0.03584295 0.03634503\n",
      " 0.03683553 0.03731597 0.03778741 0.03825063 0.03870619 0.03915443\n",
      " 0.03959551 0.04002959 0.04045669 0.04087687]\n",
      "29 day output [[0.04129013]]\n",
      "[[0.027826456353068352], [0.026412077248096466], [0.026029767468571663], [0.026341019198298454], [0.027023201808333397], [0.0278570968657732], [0.028720838949084282], [0.02955835685133934], [0.030350109562277794], [0.031093569472432137], [0.031792569905519485], [0.03245246410369873], [0.033078428357839584], [0.03367507830262184], [0.034246474504470825], [0.03479620814323425], [0.035327453166246414], [0.03584295138716698], [0.03634502738714218], [0.036835528910160065], [0.0373159684240818], [0.037787407636642456], [0.038250632584095], [0.03870619088411331], [0.039154425263404846], [0.03959551453590393], [0.04002959281206131], [0.04045668989419937], [0.04087686911225319], [0.041290126740932465]]\n"
     ]
    }
   ],
   "source": [
    "# demonstrate prediction for next 10 days\n",
    "lst_output=[]\n",
    "n_steps=100\n",
    "i=0\n",
    "while(i<30):\n",
    "    \n",
    "    if(len(temp_input)>100):\n",
    "        #print(temp_input)\n",
    "        x_input=np.array(temp_input[1:])\n",
    "        print(\"{} day input {}\".format(i,x_input))\n",
    "        x_input=x_input.reshape(1,-1)\n",
    "        x_input = x_input.reshape((1, n_steps, 1))\n",
    "        #print(x_input)\n",
    "        yhat = model.predict(x_input, verbose=0)\n",
    "        print(\"{} day output {}\".format(i,yhat))\n",
    "        temp_input.extend(yhat[0].tolist())\n",
    "        temp_input=temp_input[1:]\n",
    "        #print(temp_input)\n",
    "        lst_output.extend(yhat.tolist())\n",
    "        i=i+1\n",
    "    else:\n",
    "        x_input = x_input.reshape((1, n_steps,1))\n",
    "        yhat = model.predict(x_input, verbose=0)\n",
    "        print(yhat[0])\n",
    "        temp_input.extend(yhat[0].tolist())\n",
    "        print(len(temp_input))\n",
    "        lst_output.extend(yhat.tolist())\n",
    "        i=i+1\n",
    "    \n",
    "\n",
    "print(lst_output)"
   ]
  },
  {
   "cell_type": "code",
   "execution_count": 22,
   "id": "1cc13762",
   "metadata": {
    "execution": {
     "iopub.execute_input": "2021-12-11T18:49:13.328051Z",
     "iopub.status.busy": "2021-12-11T18:49:13.327019Z",
     "iopub.status.idle": "2021-12-11T18:49:13.329684Z",
     "shell.execute_reply": "2021-12-11T18:49:13.329138Z",
     "shell.execute_reply.started": "2021-12-11T18:40:57.930054Z"
    },
    "papermill": {
     "duration": 0.031634,
     "end_time": "2021-12-11T18:49:13.329823",
     "exception": false,
     "start_time": "2021-12-11T18:49:13.298189",
     "status": "completed"
    },
    "tags": []
   },
   "outputs": [],
   "source": [
    "day_new=np.arange(1,101)\n",
    "day_pred=np.arange(101,131)"
   ]
  },
  {
   "cell_type": "code",
   "execution_count": 23,
   "id": "a04e71af",
   "metadata": {
    "execution": {
     "iopub.execute_input": "2021-12-11T18:49:13.403530Z",
     "iopub.status.busy": "2021-12-11T18:49:13.402880Z",
     "iopub.status.idle": "2021-12-11T18:49:13.583500Z",
     "shell.execute_reply": "2021-12-11T18:49:13.583921Z",
     "shell.execute_reply.started": "2021-12-11T18:41:01.856112Z"
    },
    "papermill": {
     "duration": 0.229314,
     "end_time": "2021-12-11T18:49:13.584110",
     "exception": false,
     "start_time": "2021-12-11T18:49:13.354796",
     "status": "completed"
    },
    "tags": []
   },
   "outputs": [
    {
     "data": {
      "text/plain": [
       "[<matplotlib.lines.Line2D at 0x7efcfb4918d0>]"
      ]
     },
     "execution_count": 23,
     "metadata": {},
     "output_type": "execute_result"
    },
    {
     "data": {
      "image/png": "[encoded data removed]",
      "text/plain": [
       "<Figure size 432x288 with 1 Axes>"
      ]
     },
     "metadata": {
      "needs_background": "light"
     },
     "output_type": "display_data"
    }
   ],
   "source": [
    "plt.plot(day_new,scaler.inverse_transform(df1[1564:])) #len(df1)\n",
    "plt.plot(day_pred,scaler.inverse_transform(lst_output))"
   ]
  },
  {
   "cell_type": "code",
   "execution_count": 24,
   "id": "3a4860c6",
   "metadata": {
    "execution": {
     "iopub.execute_input": "2021-12-11T18:49:13.639136Z",
     "iopub.status.busy": "2021-12-11T18:49:13.638170Z",
     "iopub.status.idle": "2021-12-11T18:49:13.824875Z",
     "shell.execute_reply": "2021-12-11T18:49:13.825422Z",
     "shell.execute_reply.started": "2021-12-11T18:41:03.872161Z"
    },
    "papermill": {
     "duration": 0.21603,
     "end_time": "2021-12-11T18:49:13.825597",
     "exception": false,
     "start_time": "2021-12-11T18:49:13.609567",
     "status": "completed"
    },
    "tags": []
   },
   "outputs": [
    {
     "data": {
      "text/plain": [
       "[<matplotlib.lines.Line2D at 0x7efd00a26f90>]"
      ]
     },
     "execution_count": 24,
     "metadata": {},
     "output_type": "execute_result"
    },
    {
     "data": {
      "image/png": "[encoded data removed]",
      "text/plain": [
       "<Figure size 432x288 with 1 Axes>"
      ]
     },
     "metadata": {
      "needs_background": "light"
     },
     "output_type": "display_data"
    }
   ],
   "source": [
    "df3=df1.tolist()\n",
    "df3.extend(lst_output)\n",
    "df3=scaler.inverse_transform(df3).tolist()\n",
    "plt.plot(df3[1600:])"
   ]
  },
  {
   "cell_type": "code",
   "execution_count": 25,
   "id": "e203491c",
   "metadata": {
    "execution": {
     "iopub.execute_input": "2021-12-11T18:49:13.882867Z",
     "iopub.status.busy": "2021-12-11T18:49:13.881865Z",
     "iopub.status.idle": "2021-12-11T18:49:14.091822Z",
     "shell.execute_reply": "2021-12-11T18:49:14.092344Z",
     "shell.execute_reply.started": "2021-12-11T18:41:06.656337Z"
    },
    "papermill": {
     "duration": 0.240384,
     "end_time": "2021-12-11T18:49:14.092555",
     "exception": false,
     "start_time": "2021-12-11T18:49:13.852171",
     "status": "completed"
    },
    "tags": []
   },
   "outputs": [
    {
     "data": {
      "text/plain": [
       "[<matplotlib.lines.Line2D at 0x7efcfb4b0710>]"
      ]
     },
     "execution_count": 25,
     "metadata": {},
     "output_type": "execute_result"
    },
    {
     "data": {
      "image/png": "[encoded data removed]",
      "text/plain": [
       "<Figure size 432x288 with 1 Axes>"
      ]
     },
     "metadata": {
      "needs_background": "light"
     },
     "output_type": "display_data"
    }
   ],
   "source": [
    "plt.plot(df3)"
   ]
  }
 ],
 "metadata": {
  "kernelspec": {
   "display_name": "Python 3",
   "language": "python",
   "name": "python3"
  },
  "language_info": {
   "codemirror_mode": {
    "name": "ipython",
    "version": 3
   },
   "file_extension": ".py",
   "mimetype": "text/x-python",
   "name": "python",
   "nbconvert_exporter": "python",
   "pygments_lexer": "ipython3",
   "version": "3.7.12"
  },
  "papermill": {
   "default_parameters": {},
   "duration": 465.743953,
   "end_time": "2021-12-11T18:49:17.356848",
   "environment_variables": {},
   "exception": null,
   "input_path": "__notebook__.ipynb",
   "output_path": "__notebook__.ipynb",
   "parameters": {},
   "start_time": "2021-12-11T18:41:31.612895",
   "version": "2.3.3"
  }
 },
 "nbformat": 4,
 "nbformat_minor": 5
}
